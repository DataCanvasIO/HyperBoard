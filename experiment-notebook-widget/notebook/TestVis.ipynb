{
 "cells": [
  {
   "cell_type": "code",
   "execution_count": 1,
   "id": "428ecfe2",
   "metadata": {},
   "outputs": [],
   "source": [
    "import sys\n",
    "sys.path.insert(0, 'C:\\\\Users\\\\wuhf\\\\PycharmProjects\\\\Hypernets')\n",
    "sys.path.insert(0, 'C:\\\\Users\\\\wuhf\\\\PycharmProjects\\\\HyperGBM')"
   ]
  },
  {
   "cell_type": "code",
   "execution_count": 2,
   "id": "b0245678",
   "metadata": {
    "scrolled": false
   },
   "outputs": [
    {
     "name": "stdout",
     "output_type": "stream",
     "text": [
      "12-11 22:52:06 I hypernets.t.estimator_detector.py 84 - lightgbm.basic.LightGBMError: GPU Tree Learner was not enabled in this build.\n",
      "Please recompile with CMake option -DUSE_GPU=1\n",
      "Traceback (most recent call last):\n",
      "  File \"C:\\Users\\wuhf\\PycharmProjects\\Hypernets\\hypernets\\tabular\\estimator_detector.py\", line 81, in __call__\n",
      "    self.fit_estimator(estimator, X, y)\n",
      "  File \"C:\\Users\\wuhf\\PycharmProjects\\Hypernets\\hypernets\\tabular\\estimator_detector.py\", line 56, in fit_estimator\n",
      "    return estimator.fit(X, y, **self.fit_kwargs)\n",
      "  File \"c:\\users\\wuhf\\anaconda3\\envs\\hypergbm\\lib\\site-packages\\lightgbm\\sklearn.py\", line 895, in fit\n",
      "    callbacks=callbacks, init_model=init_model)\n",
      "  File \"c:\\users\\wuhf\\anaconda3\\envs\\hypergbm\\lib\\site-packages\\lightgbm\\sklearn.py\", line 688, in fit\n",
      "    callbacks=callbacks, init_model=init_model)\n",
      "  File \"c:\\users\\wuhf\\anaconda3\\envs\\hypergbm\\lib\\site-packages\\lightgbm\\engine.py\", line 228, in train\n",
      "    booster = Booster(params=params, train_set=train_set)\n",
      "  File \"c:\\users\\wuhf\\anaconda3\\envs\\hypergbm\\lib\\site-packages\\lightgbm\\basic.py\", line 2237, in __init__\n",
      "    ctypes.byref(self.handle)))\n",
      "  File \"c:\\users\\wuhf\\anaconda3\\envs\\hypergbm\\lib\\site-packages\\lightgbm\\basic.py\", line 110, in _safe_call\n",
      "    raise LightGBMError(_LIB.LGBM_GetLastError().decode('utf-8'))\n",
      "\n",
      "12-11 22:52:06 I hypernets.t.toolbox.py 209 - 2 class detected, {'yes', 'no'}, so inferred as a [binary classification] task\n",
      "12-11 22:52:06 I hypernets.e.compete.py 1277 - create experiment with ['data_clean', 'feature_selection', 'space_searching', 'final_ensemble']\n"
     ]
    },
    {
     "data": {
      "application/vnd.jupyter.widget-view+json": {
       "model_id": "397e13fd220c4f67a51fc6de64ea54b3",
       "version_major": 2,
       "version_minor": 0
      },
      "text/plain": [
       "ExperimentProcessWidget(initData='{\"task\": \"binary\", \"datasets\": [{\"kind\": \"Train\", \"task\": \"binary\", \"shape\":…"
      ]
     },
     "metadata": {},
     "output_type": "display_data"
    },
    {
     "name": "stdout",
     "output_type": "stream",
     "text": [
      "12-11 22:52:06 I hypernets.e.compete.py 1306 - fit_transform data_clean with columns: ['id', 'age', 'job', 'marital', 'education', 'default', 'balance', 'housing', 'loan', 'contact', 'day', 'month', 'duration', 'campaign', 'pdays', 'previous', 'poutcome']\n",
      "12-11 22:52:06 I hypernets.e.compete.py 302 - data_clean transform train data\n",
      "12-11 22:52:06 I hypernets.t.data_cleaner.py 230 - replace [inf,-inf] to nan\n",
      "12-11 22:52:06 I hypernets.t.data_cleaner.py 309 - drop columns: ['id']\n",
      "12-11 22:52:06 I hypernets.e.compete.py 345 - data_clean keep 16 columns\n",
      "12-11 22:52:06 I hypernets.e.compete.py 1306 - fit_transform feature_selection with columns: ['age', 'job', 'marital', 'education', 'default', 'balance', 'housing', 'loan', 'contact', 'day', 'month', 'duration', 'campaign', 'pdays', 'previous', 'poutcome']\n",
      "12-11 22:52:06 I hypernets.e.compete.py 179 - feature_selection cache_transform: 11 columns kept.\n",
      "12-11 22:52:06 I hypernets.e.compete.py 1306 - fit_transform space_searching with columns: ['age', 'default', 'housing', 'loan', 'contact', 'month', 'duration', 'campaign', 'pdays', 'previous', 'poutcome']\n",
      "12-11 22:52:06 I hypernets.c.meta_learner.py 22 - Initialize Meta Learner: dataset_id:c375585a524e3ca4d0a51d11cd30a7d8\n",
      "12-11 22:52:06 I hypergbm.hyper_gbm.py 298 - oof_scores:[{'accuracy': 0.896351575456053}, {'accuracy': 0.8904564315352697}, {'accuracy': 0.8979253112033195}]\n",
      "12-11 22:52:06 I hypernets.d.in_process_dispatcher.py 76 - Trial 1 done, reward: 0.8949115044247787, best_trial_no:1, best_reward:0.8949115044247787\n",
      "\n",
      "12-11 22:52:06 I hypergbm.hyper_gbm.py 298 - oof_scores:[{'accuracy': 0.8830845771144279}, {'accuracy': 0.8829875518672199}, {'accuracy': 0.8829875518672199}]\n",
      "12-11 22:52:07 I hypernets.d.in_process_dispatcher.py 76 - Trial 2 done, reward: 0.8830199115044248, best_trial_no:1, best_reward:0.8949115044247787\n",
      "\n",
      "12-11 22:52:07 I hypergbm.hyper_gbm.py 298 - oof_scores:[{'accuracy': 0.8980099502487562}, {'accuracy': 0.891286307053942}, {'accuracy': 0.8921161825726142}]\n",
      "12-11 22:52:07 I hypernets.d.in_process_dispatcher.py 76 - Trial 3 done, reward: 0.8938053097345132, best_trial_no:1, best_reward:0.8949115044247787\n",
      "\n",
      "12-11 22:52:16 I hypergbm.hyper_gbm.py 298 - oof_scores:[{'accuracy': 0.8855721393034826}, {'accuracy': 0.8821576763485477}, {'accuracy': 0.8829875518672199}]\n",
      "12-11 22:52:16 I hypernets.c.callbacks.py 133 - Early stopping on trial : 4, reason: max_no_improvement_trials, best reward: 0.8949115044247787, best trial: 1, elapsed seconds: 10.5016188621521\n",
      "12-11 22:52:16 I hypernets.e.compete.py 774 - space_searching best_reward: 0.8949115044247787\n",
      "12-11 22:52:16 I hypernets.e.compete.py 1306 - fit_transform final_ensemble with columns: ['age', 'default', 'housing', 'loan', 'contact', 'month', 'duration', 'campaign', 'pdays', 'previous', 'poutcome']\n",
      "12-11 22:52:16 I hypernets.e.compete.py 1052 - ensemble with oofs\n",
      "12-11 22:52:17 I hypernets.e.compete.py 1012 - built estimator: GreedyEnsemble(weight=[0.45, 0.15, 0.25, 0.15], scores=[0.8959810874704491, 0.8966141211678325, 0.8972826935991038, 0.8974104109240144, 0.8975088828324963, 0.8975710756168006, 0.8975525658595672, 0.8975229502479937, 0.8975422003955165, 0.897514805954811, 0.8975088828324964, 0.8975695948362219, 0.8975725563973794, 0.8975681140556432, 0.8975947681060593, 0.897567373665354, 0.8975777391294048, 0.8975799603002728, 0.8975984700575059, 0.8975881045934554])\n",
      "12-11 22:52:17 I hypernets.e.compete.py 1378 - trained experiment pipeline: ['data_clean', 'feature_selection', 'estimator']\n"
     ]
    }
   ],
   "source": [
    "from sklearn.metrics import get_scorer\n",
    "from sklearn.model_selection import train_test_split\n",
    "\n",
    "from hn_widget import JupyterHyperModelCallback, JupyterWidgetExperimentCallback\n",
    "from hypergbm import HyperGBM\n",
    "from hypergbm.search_space import search_space_general\n",
    "from hypergbm.tests import test_output_dir\n",
    "from hypernets.core.callbacks import EarlyStoppingCallback\n",
    "from hypernets.core.searcher import OptimizeDirection\n",
    "from hypernets.experiment import CompeteExperiment\n",
    "from hypernets.searchers.random_searcher import RandomSearcher\n",
    "from hypernets.tabular.datasets import dsutils\n",
    "\n",
    "df = dsutils.load_bank()\n",
    "\n",
    "X_train, X_test = train_test_split(df, test_size=0.2, random_state=42)\n",
    "y_train = X_train.pop('y')\n",
    "y_test = X_test.pop('y')\n",
    "\n",
    "rs = RandomSearcher(search_space_general, optimize_direction=OptimizeDirection.Maximize)\n",
    "\n",
    "hk = HyperGBM(rs, task='binary', reward_metric='accuracy',\n",
    "              cache_dir=f'{test_output_dir}/hypergbm_cache',\n",
    "              callbacks=[JupyterHyperModelCallback(), EarlyStoppingCallback(3, 'max', time_limit=60, expected_reward=1)])\n",
    "\n",
    "ce = CompeteExperiment(hk, X_train, y_train,\n",
    "                       scorer=get_scorer('roc_auc'),\n",
    "                       feature_selection=True,\n",
    "                       feature_selection_strategy='threshold',\n",
    "                       feature_selection_threshold=100,\n",
    "                       feature_selection_quantile=None,\n",
    "                       feature_selection_number=None,\n",
    "                       callbacks=[JupyterWidgetExperimentCallback()])\n",
    "pipeline = ce.run(max_trails=3)\n",
    "\n"
   ]
  },
  {
   "cell_type": "code",
   "execution_count": null,
   "id": "4c970167",
   "metadata": {},
   "outputs": [],
   "source": []
  }
 ],
 "metadata": {
  "kernelspec": {
   "display_name": "Python 3 (ipykernel)",
   "language": "python",
   "name": "python3"
  },
  "language_info": {
   "codemirror_mode": {
    "name": "ipython",
    "version": 3
   },
   "file_extension": ".py",
   "mimetype": "text/x-python",
   "name": "python",
   "nbconvert_exporter": "python",
   "pygments_lexer": "ipython3",
   "version": "3.7.11"
  }
 },
 "nbformat": 4,
 "nbformat_minor": 5
}
