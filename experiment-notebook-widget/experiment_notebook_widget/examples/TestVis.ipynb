{
 "cells": [
  {
   "cell_type": "code",
   "execution_count": null,
   "id": "428ecfe2",
   "metadata": {},
   "outputs": [],
   "source": [
    "import sys"
   ]
  },
  {
   "cell_type": "code",
   "execution_count": null,
   "id": "b0245678",
   "metadata": {
    "scrolled": false
   },
   "outputs": [],
   "source": [
    "\n",
    "from sklearn.model_selection import train_test_split\n",
    "\n",
    "from hypergbm import HyperGBM\n",
    "from hypergbm.search_space import search_space_general\n",
    "from hypernets.core.callbacks import SummaryCallback, FileLoggingCallback\n",
    "from hypernets.core.searcher import OptimizeDirection\n",
    "from hypernets.experiment.compete import EnsembleStep\n",
    "from hypernets.searchers.random_searcher import RandomSearcher\n",
    "from hypernets.tabular.datasets import dsutils\n",
    "from hypergbm.tests import test_output_dir\n",
    "from hypernets.experiment import CompeteExperiment\n",
    "import json\n",
    "\n",
    "from hypernets.core.callbacks import EarlyStoppingCallback\n",
    "from sklearn.metrics import get_scorer\n",
    "\n",
    "df = dsutils.load_bank()\n",
    "# df.drop(['id'], axis=1, inplace=True)\n",
    "X_train, X_test = train_test_split(df.head(1000), test_size=0.2, random_state=42)\n",
    "y_train = X_train.pop('y')\n",
    "y_test = X_test.pop('y')\n",
    "\n",
    "rs = RandomSearcher(search_space_general, optimize_direction=OptimizeDirection.Maximize)\n",
    "from hypergbm.callbacks import HyperGBMNotebookExperimentCallback, HyperGBMNotebookHyperModelCallback\n",
    "# \n",
    "hk = HyperGBM(rs, task='binary', reward_metric='accuracy',\n",
    "              cache_dir=f'{test_output_dir}/hypergbm_cache',\n",
    "              callbacks=[HyperGBMNotebookHyperModelCallback(), EarlyStoppingCallback(3, 'max', time_limit=60, expected_reward=1)])\n",
    "\n",
    "# \n",
    "ce = CompeteExperiment(hk, X_train, y_train,\n",
    "                       scorer=get_scorer('roc_auc'),\n",
    "                       feature_reselection=True,\n",
    "                       feature_reselection_estimator_size=10,\n",
    "                    feature_reselection_strategy='threshold',\n",
    "                    feature_reselection_threshold=0.1,\n",
    "                    feature_reselection_quantile=None,\n",
    "                    feature_reselection_number=None,\n",
    "                    callbacks=[HyperGBMNotebookExperimentCallback()])\n",
    "ce.run(max_trails=3)\n",
    "\n",
    "print(ce)\n"
   ]
  },
  {
   "cell_type": "code",
   "execution_count": null,
   "id": "a1868cc3",
   "metadata": {},
   "outputs": [],
   "source": []
  }
 ],
 "metadata": {
  "kernelspec": {
   "display_name": "Python 3 (ipykernel)",
   "language": "python",
   "name": "python3"
  },
  "language_info": {
   "codemirror_mode": {
    "name": "ipython",
    "version": 3
   },
   "file_extension": ".py",
   "mimetype": "text/x-python",
   "name": "python",
   "nbconvert_exporter": "python",
   "pygments_lexer": "ipython3",
   "version": "3.7.11"
  }
 },
 "nbformat": 4,
 "nbformat_minor": 5
}
