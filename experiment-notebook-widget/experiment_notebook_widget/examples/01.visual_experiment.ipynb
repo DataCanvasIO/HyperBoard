{
 "cells": [
  {
   "cell_type": "markdown",
   "id": "0de9740a",
   "metadata": {},
   "source": [
    "# An example of how to use experiment-notebook-widget\n",
    "\n",
    "This example will show you how to visualize the experiment."
   ]
  },
  {
   "cell_type": "code",
   "execution_count": null,
   "id": "013a7767",
   "metadata": {},
   "outputs": [],
   "source": [
    "import warnings\n",
    "warnings.filterwarnings('ignore')\n",
    "\n",
    "from sklearn.model_selection import train_test_split\n",
    "from hypernets.examples.plain_model import PlainModel, PlainSearchSpace\n",
    "from hypernets.experiment import make_experiment\n",
    "from hypernets.tabular.datasets import dsutils"
   ]
  },
  {
   "cell_type": "markdown",
   "id": "8dfd5b00",
   "metadata": {},
   "source": [
    "## Build a experiment"
   ]
  },
  {
   "cell_type": "code",
   "execution_count": null,
   "id": "27d92e91",
   "metadata": {
    "scrolled": true
   },
   "outputs": [],
   "source": [
    "df = dsutils.load_boston()\n",
    "df_train, df_eval = train_test_split(df, test_size=0.2)\n",
    "search_space = PlainSearchSpace(enable_lr=False, enable_nn=False, enable_dt=False, enable_dtr=True)\n",
    "experiment = make_experiment(PlainModel, df_train,\n",
    "                             target='target',\n",
    "                             search_space=search_space,\n",
    "                             callbacks=[],\n",
    "                             search_callbacks=[])"
   ]
  },
  {
   "cell_type": "markdown",
   "id": "50fd7407",
   "metadata": {},
   "source": [
    "## Show experiment configuration"
   ]
  },
  {
   "cell_type": "code",
   "execution_count": null,
   "id": "348ab1d8",
   "metadata": {},
   "outputs": [],
   "source": [
    "from experiment_notebook_widget import ExperimentSummary\n",
    "experiment_summary_widget = ExperimentSummary(experiment)\n",
    "display(experiment_summary_widget)"
   ]
  },
  {
   "cell_type": "markdown",
   "id": "85108567",
   "metadata": {},
   "source": [
    "# Show experiment dataset information"
   ]
  },
  {
   "cell_type": "code",
   "execution_count": null,
   "id": "5101830e",
   "metadata": {},
   "outputs": [],
   "source": [
    "from experiment_notebook_widget import DatasetSummary\n",
    "dataset_summary_widget = DatasetSummary(experiment)\n",
    "display(dataset_summary_widget)"
   ]
  },
  {
   "cell_type": "markdown",
   "id": "ffc9276d",
   "metadata": {},
   "source": [
    "##  Show experiment running process"
   ]
  },
  {
   "cell_type": "code",
   "execution_count": null,
   "id": "72f4310f",
   "metadata": {},
   "outputs": [],
   "source": [
    "from experiment_notebook_widget import ExperimentProcessWidget\n",
    "estimator = experiment.run(max_trials=3)\n",
    "\n",
    "widget = ExperimentProcessWidget(experiment)\n",
    "display(widget)"
   ]
  },
  {
   "cell_type": "code",
   "execution_count": null,
   "id": "b57f8d80",
   "metadata": {},
   "outputs": [],
   "source": []
  }
 ],
 "metadata": {
  "kernelspec": {
   "display_name": "Python 3 (ipykernel)",
   "language": "python",
   "name": "python3"
  },
  "language_info": {
   "codemirror_mode": {
    "name": "ipython",
    "version": 3
   },
   "file_extension": ".py",
   "mimetype": "text/x-python",
   "name": "python",
   "nbconvert_exporter": "python",
   "pygments_lexer": "ipython3",
   "version": "3.7.11"
  }
 },
 "nbformat": 4,
 "nbformat_minor": 5
}
