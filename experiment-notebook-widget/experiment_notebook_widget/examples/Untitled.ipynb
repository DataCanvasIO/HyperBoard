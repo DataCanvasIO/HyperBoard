{
 "cells": [
  {
   "cell_type": "code",
   "execution_count": 1,
   "id": "9e32f7e6",
   "metadata": {
    "scrolled": false
   },
   "outputs": [
    {
     "name": "stdout",
     "output_type": "stream",
     "text": [
      "02-09 19:15:44 I hypernets.t.estimator_detector.py 84 - lightgbm.basic.LightGBMError: GPU Tree Learner was not enabled in this build.\n",
      "Please recompile with CMake option -DUSE_GPU=1\n",
      "Traceback (most recent call last):\n",
      "  File \"/home/wuhf/PycharmProjects/Hypernets/hypernets/tabular/estimator_detector.py\", line 81, in __call__\n",
      "    self.fit_estimator(estimator, X, y)\n",
      "  File \"/home/wuhf/PycharmProjects/Hypernets/hypernets/tabular/estimator_detector.py\", line 56, in fit_estimator\n",
      "    return estimator.fit(X, y, **self.fit_kwargs)\n",
      "  File \"/home/wuhf/miniconda3/envs/hypergbm/lib/python3.7/site-packages/lightgbm/sklearn.py\", line 972, in fit\n",
      "    callbacks=callbacks, init_model=init_model)\n",
      "  File \"/home/wuhf/miniconda3/envs/hypergbm/lib/python3.7/site-packages/lightgbm/sklearn.py\", line 758, in fit\n",
      "    callbacks=callbacks\n",
      "  File \"/home/wuhf/miniconda3/envs/hypergbm/lib/python3.7/site-packages/lightgbm/engine.py\", line 271, in train\n",
      "    booster = Booster(params=params, train_set=train_set)\n",
      "  File \"/home/wuhf/miniconda3/envs/hypergbm/lib/python3.7/site-packages/lightgbm/basic.py\", line 2613, in __init__\n",
      "    ctypes.byref(self.handle)))\n",
      "  File \"/home/wuhf/miniconda3/envs/hypergbm/lib/python3.7/site-packages/lightgbm/basic.py\", line 125, in _safe_call\n",
      "    raise LightGBMError(_LIB.LGBM_GetLastError().decode('utf-8'))\n",
      "\n",
      "display widget wuhf\n"
     ]
    },
    {
     "name": "stderr",
     "output_type": "stream",
     "text": [
      "[LightGBM] [Fatal] GPU Tree Learner was not enabled in this build.\n",
      "Please recompile with CMake option -DUSE_GPU=1\n"
     ]
    },
    {
     "data": {
      "application/vnd.jupyter.widget-view+json": {
       "model_id": "e49634435de446b38fa3c6e88f144920",
       "version_major": 2,
       "version_minor": 0
      },
      "text/plain": [
       "ExperimentProcessWidget(initData='{\"task\": \"binary\", \"datasets\": [{\"kind\": \"Train\", \"task\": \"binary\", \"shape\":…"
      ]
     },
     "metadata": {},
     "output_type": "display_data"
    }
   ],
   "source": [
    "from sklearn.model_selection import train_test_split\n",
    "\n",
    "from hypergbm import make_experiment\n",
    "from hypernets.tabular.datasets import dsutils\n",
    "\n",
    "\n",
    "\n",
    "df = dsutils.load_bank()\n",
    "df_train, df_test = train_test_split(df, test_size=0.8, random_state=42)\n",
    "\n",
    "experiment = make_experiment(df_train, target='y',\n",
    "                             max_trials=10, log_level='warn',\n",
    "                             webui=False)\n",
    "estimator = experiment.run()\n"
   ]
  },
  {
   "cell_type": "code",
   "execution_count": null,
   "id": "6500c4a3",
   "metadata": {},
   "outputs": [],
   "source": []
  }
 ],
 "metadata": {
  "kernelspec": {
   "display_name": "Python 3 (ipykernel)",
   "language": "python",
   "name": "python3"
  },
  "language_info": {
   "codemirror_mode": {
    "name": "ipython",
    "version": 3
   },
   "file_extension": ".py",
   "mimetype": "text/x-python",
   "name": "python",
   "nbconvert_exporter": "python",
   "pygments_lexer": "ipython3",
   "version": "3.7.11"
  }
 },
 "nbformat": 4,
 "nbformat_minor": 5
}
